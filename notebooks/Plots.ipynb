{
 "cells": [
  {
   "cell_type": "code",
   "execution_count": 1,
   "metadata": {},
   "outputs": [
    {
     "name": "stderr",
     "output_type": "stream",
     "text": [
      "\u001b[1m\u001b[34mINFO: Recompiling stale cache file /Users/Aileen/.julia/lib/v0.5/FixedSizeArrays.ji for module FixedSizeArrays.\n",
      "\u001b[0m\u001b[1m\u001b[34mINFO: Recompiling stale cache file /Users/Aileen/.julia/lib/v0.5/ColorTypes.ji for module ColorTypes.\n",
      "\u001b[0m\u001b[1m\u001b[34mINFO: Recompiling stale cache file /Users/Aileen/.julia/lib/v0.5/PlotUtils.ji for module PlotUtils.\n",
      "\u001b[0m\u001b[1m\u001b[34mINFO: Recompiling stale cache file /Users/Aileen/.julia/lib/v0.5/PlotThemes.ji for module PlotThemes.\n",
      "\u001b[0m\u001b[1m\u001b[34mINFO: Recompiling stale cache file /Users/Aileen/.julia/lib/v0.5/Showoff.ji for module Showoff.\n",
      "\u001b[0m\u001b[1m\u001b[34mINFO: Recompiling stale cache file /Users/Aileen/.julia/lib/v0.5/FileIO.ji for module FileIO.\n",
      "\u001b[0m"
     ]
    },
    {
     "name": "stdout",
     "output_type": "stream",
     "text": [
      "if !Plots.is_installed(\"PlotlyJS\")\n",
      "    Pkg.add(\"PlotlyJS\")\n",
      "end\n",
      "if !Plots.is_installed(\"Rsvg\")\n",
      "    Pkg.add(\"Rsvg\")\n",
      "end\n",
      "import Blink\n",
      "Blink.AtomShell.install()\n",
      "\n",
      "\n"
     ]
    },
    {
     "name": "stderr",
     "output_type": "stream",
     "text": [
      "\u001b[1m\u001b[31mWARNING: Couldn't initialize plotlyjs.  (might need to install it?)\u001b[0m\n",
      "\u001b[1m\u001b[34mINFO: To do a standard install of plotlyjs, copy and run this:\n",
      "\n",
      "\u001b[0m"
     ]
    },
    {
     "ename": "LoadError",
     "evalue": "ArgumentError: Module PlotlyJS not found in current path.\nRun `Pkg.add(\"PlotlyJS\")` to install the PlotlyJS package.",
     "output_type": "error",
     "traceback": [
      "ArgumentError: Module PlotlyJS not found in current path.\nRun `Pkg.add(\"PlotlyJS\")` to install the PlotlyJS package.",
      ""
     ]
    }
   ],
   "source": [
    "using Plots\n",
    "plotlyjs()"
   ]
  },
  {
   "cell_type": "code",
   "execution_count": 2,
   "metadata": {},
   "outputs": [
    {
     "data": {
      "text/html": [
       "<div id=\"8ca3536a-4d85-4c68-9835-18b2a62af249\" class=\"plotly-graph-div\"></div>\n",
       "\n",
       "<script>\n",
       "    window.PLOTLYENV=window.PLOTLYENV || {};\n",
       "    window.PLOTLYENV.BASE_URL=\"https://plot.ly\";\n",
       "    require(['plotly'], function(Plotly) {\n",
       "        Plotly.newPlot('8ca3536a-4d85-4c68-9835-18b2a62af249', [{\"yaxis\":\"y\",\"y\":[0.20299022149265866],\"showlegend\":true,\"name\":\"y1\",\"type\":\"scatter\",\"xaxis\":\"x\",\"line\":{\"width\":1,\"dash\":\"solid\",\"color\":\"rgba(0, 154, 250, 1.000)\",\"shape\":\"linear\"},\"x\":[0.37695287471897654],\"mode\":\"lines\"},{\"yaxis\":\"y\",\"y\":[0.19210235500923334],\"showlegend\":true,\"name\":\"y2\",\"type\":\"scatter\",\"xaxis\":\"x\",\"line\":{\"width\":1,\"dash\":\"solid\",\"color\":\"rgba(227, 111, 71, 1.000)\",\"shape\":\"linear\"},\"x\":[0.6128612750269244],\"mode\":\"lines\"},{\"yaxis\":\"y\",\"y\":[0.58705028191257],\"showlegend\":true,\"name\":\"y3\",\"type\":\"scatter\",\"xaxis\":\"x\",\"line\":{\"width\":1,\"dash\":\"solid\",\"color\":\"rgba(62, 164, 78, 1.000)\",\"shape\":\"linear\"},\"x\":[0.010210397901619261],\"mode\":\"lines\"},{\"yaxis\":\"y\",\"y\":[0.7668746331856999],\"showlegend\":true,\"name\":\"y4\",\"type\":\"scatter\",\"xaxis\":\"x\",\"line\":{\"width\":1,\"dash\":\"solid\",\"color\":\"rgba(195, 113, 210, 1.000)\",\"shape\":\"linear\"},\"x\":[0.7086087192984052],\"mode\":\"lines\"},{\"yaxis\":\"y\",\"y\":[0.8203647123312148],\"showlegend\":true,\"name\":\"y5\",\"type\":\"scatter\",\"xaxis\":\"x\",\"line\":{\"width\":1,\"dash\":\"solid\",\"color\":\"rgba(172, 142, 24, 1.000)\",\"shape\":\"linear\"},\"x\":[0.05820806779866228],\"mode\":\"lines\"},{\"yaxis\":\"y\",\"y\":[0.629895590485235],\"showlegend\":true,\"name\":\"y6\",\"type\":\"scatter\",\"xaxis\":\"x\",\"line\":{\"width\":1,\"dash\":\"solid\",\"color\":\"rgba(0, 170, 174, 1.000)\",\"shape\":\"linear\"},\"x\":[0.9257156266032918],\"mode\":\"lines\"},{\"yaxis\":\"y\",\"y\":[0.037010482093234875],\"showlegend\":true,\"name\":\"y7\",\"type\":\"scatter\",\"xaxis\":\"x\",\"line\":{\"width\":1,\"dash\":\"solid\",\"color\":\"rgba(237, 94, 147, 1.000)\",\"shape\":\"linear\"},\"x\":[0.7748228151858965],\"mode\":\"lines\"},{\"yaxis\":\"y\",\"y\":[0.6047168359620232],\"showlegend\":true,\"name\":\"y8\",\"type\":\"scatter\",\"xaxis\":\"x\",\"line\":{\"width\":1,\"dash\":\"solid\",\"color\":\"rgba(198, 130, 37, 1.000)\",\"shape\":\"linear\"},\"x\":[0.3918985788798912],\"mode\":\"lines\"}],\n",
       "               {\"yaxis\":{\"type\":\"-\",\"titlefont\":{\"size\":15,\"color\":\"rgba(0, 0, 0, 1.000)\",\"family\":\"sans-serif\"},\"title\":\"\",\"tickfont\":{\"size\":11,\"color\":\"rgba(0, 0, 0, 1.000)\",\"family\":\"sans-serif\"},\"ticks\":\"inside\",\"tickmode\":\"array\",\"showgrid\":true,\"tickvals\":[0.25,0.5,0.75],\"domain\":[0.03762029746281716,0.9901574803149606],\"ticktext\":[\"0.25\",\"0.50\",\"0.75\"],\"tickangle\":0,\"zeroline\":false,\"linecolor\":\"rgba(0, 0, 0, 1.000)\",\"tickcolor\":\"rgba(0, 0, 0, 1.000)\",\"anchor\":\"x\"},\"annotations\":[],\"width\":600,\"plot_bgcolor\":\"rgba(255, 255, 255, 1.000)\",\"showlegend\":true,\"legend\":{\"bgcolor\":\"rgba(255, 255, 255, 1.000)\",\"y\":1.0,\"font\":{\"size\":11,\"color\":\"rgba(0, 0, 0, 1.000)\",\"family\":\"sans-serif\"},\"bordercolor\":\"rgba(0, 0, 0, 1.000)\",\"x\":1.0},\"xaxis\":{\"type\":\"-\",\"titlefont\":{\"size\":15,\"color\":\"rgba(0, 0, 0, 1.000)\",\"family\":\"sans-serif\"},\"title\":\"\",\"tickfont\":{\"size\":11,\"color\":\"rgba(0, 0, 0, 1.000)\",\"family\":\"sans-serif\"},\"ticks\":\"inside\",\"tickmode\":\"array\",\"showgrid\":true,\"tickvals\":[0.25,0.5,0.75],\"domain\":[0.0658209390492855,0.9934383202099738],\"ticktext\":[\"0.25\",\"0.50\",\"0.75\"],\"tickangle\":0,\"zeroline\":false,\"linecolor\":\"rgba(0, 0, 0, 1.000)\",\"tickcolor\":\"rgba(0, 0, 0, 1.000)\",\"anchor\":\"y\"},\"paper_bgcolor\":\"rgba(255, 255, 255, 1.000)\",\"margin\":{\"r\":0,\"l\":0,\"b\":0,\"t\":20},\"height\":400}, {showLink: false});\n",
       "\n",
       "    });\n",
       " </script>\n"
      ]
     },
     "execution_count": 2,
     "metadata": {},
     "output_type": "execute_result"
    }
   ],
   "source": [
    "plt = plot(rand(1,8),rand(1,8))"
   ]
  },
  {
   "cell_type": "code",
   "execution_count": 10,
   "metadata": {},
   "outputs": [
    {
     "name": "stderr",
     "output_type": "stream",
     "text": [
      "WARNING: Method definition plots_and_stats(Any, Any) in module Main at /Users/spielman/Laplacians/src/compare_solvers_reports.jl:10 overwritten at /Users/spielman/Laplacians/src/compare_solvers_reports.jl:10.\n",
      "\u001b[1m\u001b[31mWARNING: replacing docs for 'plots_and_stats :: Tuple{Any,Any}' in module 'Main'.\u001b[0m\n",
      "WARNING: Method definition plots_and_stats(Any) in module Main at /Users/spielman/Laplacians/src/compare_solvers_reports.jl:20 overwritten at /Users/spielman/Laplacians/src/compare_solvers_reports.jl:20.\n",
      "WARNING: Method definition plots_and_stats_raw(Any, Any, Any, Any) in module Main at /Users/spielman/Laplacians/src/compare_solvers_reports.jl:29 overwritten at /Users/spielman/Laplacians/src/compare_solvers_reports.jl:29.\n",
      "WARNING: Method definition plots_and_stats_raw(Any, Any, Any) in module Main at /Users/spielman/Laplacians/src/compare_solvers_reports.jl:41 overwritten at /Users/spielman/Laplacians/src/compare_solvers_reports.jl:41.\n"
     ]
    },
    {
     "data": {
      "text/plain": [
       "plots_and_stats_raw (generic function with 2 methods)"
      ]
     },
     "execution_count": 10,
     "metadata": {},
     "output_type": "execute_result"
    }
   ],
   "source": [
    "include(\"/Users/spielman/Laplacians/src/compare_solvers_reports.jl\")"
   ]
  },
  {
   "cell_type": "code",
   "execution_count": 5,
   "metadata": {
    "collapsed": true
   },
   "outputs": [],
   "source": [
    "using JLD"
   ]
  },
  {
   "cell_type": "code",
   "execution_count": 12,
   "metadata": {},
   "outputs": [
    {
     "data": {
      "text/plain": [
       "Dict{Any,Any} with 24 entries:\n",
       "  \"aug_tot\"   => [8.28102,6.13936,25.4551,27.5598,27.9418,14.9904,13.7186,20.31…\n",
       "  \"aug_build\" => [4.78484,3.10892,5.78421,6.6329,8.02047,3.91774,3.50008,4.5455…\n",
       "  \"ee_its\"    => [32.0,36.0,32.0,21.0,22.0,18.0,28.0,29.0,23.0,22.0  …  35.0,29…\n",
       "  \"cmg_solve\" => [1.49749,2.04447,4.097,1.66922,5.30785,1.57982,1.33029,1.27634…\n",
       "  \"ee_tot\"    => [2.19287,1.60445,6.09507,5.74546,9.24441,2.79585,1.98433,3.546…\n",
       "  \"cmg_build\" => [0.671239,0.589589,1.47865,1.02222,2.93268,0.884021,0.574258,0…\n",
       "  \"icc_solve\" => [Inf,Inf,Inf,3.712,6.32327,0.615497,8.49237,2.01509,3.46977,4.…\n",
       "  \"icc_err\"   => [Inf,Inf,Inf,9.01965e-9,1.06696e-8,6.35067e-9,8.57867e-9,9.397…\n",
       "  \"icc_build\" => [Inf,Inf,Inf,0.607301,0.75383,0.710202,0.420398,0.50816,0.6144…\n",
       "  \"cmg_err\"   => [7.04302e-9,9.77377e-9,8.50732e-9,8.12706e-9,9.98535e-9,5.7195…\n",
       "  \"icc_its\"   => [Inf,Inf,Inf,78.0,140.0,21.0,309.0,76.0,100.0,108.0  …  632.0,…\n",
       "  \"names\"     => String[\"aug\" \"ee\" \"cmg\" \"icc\"]\n",
       "  \"ee_build\"  => [0.767102,0.681324,3.4642,4.22302,6.72547,1.795,1.14333,1.7983…\n",
       "  \"aug_solve\" => [3.49618,3.03044,19.6709,20.9269,19.9214,11.0726,10.2185,15.77…\n",
       "  \"cmg_tot\"   => [2.16873,2.63406,5.57565,2.69144,8.24053,2.46384,1.90455,2.130…\n",
       "  \"hash_a\"    => UInt64[0xcee6c0a98df4bded,0xdfbaa8a8410eb4d3,0xde89744631f3482…\n",
       "  \"aug_err\"   => [9.39989e-9,8.82051e-9,9.92835e-9,9.76631e-9,9.97686e-9,9.2160…\n",
       "  \"nv\"        => [100000,100000,100000,100000,100000,100000,100000,100000,10000…\n",
       "  \"ee_solve\"  => [1.42576,0.923122,2.63087,1.52244,2.51894,1.00085,0.840999,1.7…\n",
       "  \"cmg_its\"   => [34.0,43.0,49.0,27.0,40.0,28.0,43.0,27.0,32.0,38.0  …  34.0,23…\n",
       "  \"icc_tot\"   => [Inf,Inf,Inf,4.3193,7.0771,1.3257,8.91276,2.52325,4.08419,5.04…\n",
       "  \"ne\"        => [371386,256788,711172,796132,1166850,399968,313002,454140,7192…\n",
       "  \"aug_its\"   => [166.0,115.0,349.0,361.0,298.0,199.0,197.0,298.0,315.0,347.0  …\n",
       "  \"ee_err\"    => [5.89209e-9,6.45626e-9,6.02477e-9,9.87773e-9,9.20798e-9,4.2709…"
      ]
     },
     "execution_count": 12,
     "metadata": {},
     "output_type": "execute_result"
    }
   ],
   "source": [
    "dic = load(\"dic.jld\",\"dic\")"
   ]
  },
  {
   "cell_type": "code",
   "execution_count": 13,
   "metadata": {},
   "outputs": [
    {
     "data": {
      "text/html": [
       "<div id=\"1fae3e69-fff3-40e2-9b7d-df7da23bb8f8\" class=\"plotly-graph-div\"></div>\n",
       "\n",
       "<script>\n",
       "    window.PLOTLYENV=window.PLOTLYENV || {};\n",
       "    window.PLOTLYENV.BASE_URL=\"https://plot.ly\";\n",
       "    require(['plotly'], function(Plotly) {\n",
       "        Plotly.newPlot('1fae3e69-fff3-40e2-9b7d-df7da23bb8f8', [{\"yaxis\":\"y\",\"y\":[0.422455458,1.8316182950000002,3.032057698,3.2105395260000003,3.290581183,3.869469333,5.426315166,5.532352715,5.949207132000001,6.0618414529999995,6.139360862,6.831603535,6.875934572,6.91556858,7.258811456,7.937318502,8.037109024,8.281015662,8.506549773,8.649505978,8.766352573999999,8.96041656,9.446322405,9.485717987000001,10.16747758,11.957276096,12.977810251000001,13.718594254,13.996364247,14.990369983,15.949676257,19.184281087,20.316439649,21.462630543,23.070152128,23.119468077,23.855380099,25.455063301,26.518720319,26.813781086,27.141703088,27.559809633999997,27.725883632000002,27.941847725000002,33.129696189,36.992933363999995,41.467704068,44.084469874999996,44.129235698,46.104634769],\"showlegend\":true,\"name\":\"aug\",\"type\":\"scatter\",\"xaxis\":\"x\",\"line\":{\"width\":1,\"dash\":\"solid\",\"color\":\"rgba(0, 154, 250, 1.000)\",\"shape\":\"linear\"},\"x\":[1,2,3,4,5,6,7,8,9,10,11,12,13,14,15,16,17,18,19,20,21,22,23,24,25,26,27,28,29,30,31,32,33,34,35,36,37,38,39,40,41,42,43,44,45,46,47,48,49,50],\"mode\":\"lines\"},{\"yaxis\":\"y\",\"y\":[0.110249358,0.537986571,0.575626397,0.872054839,0.549269943,1.038157522,1.285177819,1.357445139,0.863442227,0.8761539460000001,1.604446567,0.9671403489999999,1.911512658,1.947124396,2.066923159,1.6482452680000002,1.747395176,2.1928651620000004,2.600846573,1.0671876729999998,3.134106598,0.9115330989999999,2.846098744,2.417352717,3.750947867,1.739222604,2.684455291,1.984326244,3.713559554,2.795851604,2.9089249329999998,2.851301331,3.546772566,3.385091363,4.5795674250000005,5.015754738,4.408261928,6.095071933,6.180144747,4.489927477,4.6102998070000005,5.745456557,6.328463476,9.244409367,8.338213848999999,null,8.916957488,null,8.695752495,7.663961513],\"showlegend\":true,\"name\":\"ee\",\"type\":\"scatter\",\"xaxis\":\"x\",\"line\":{\"width\":1,\"dash\":\"solid\",\"color\":\"rgba(227, 111, 71, 1.000)\",\"shape\":\"linear\"},\"x\":[1,2,3,4,5,6,7,8,9,10,11,12,13,14,15,16,17,18,19,20,21,22,23,24,25,26,27,28,29,30,31,32,33,34,35,36,37,38,39,40,41,42,43,44,45,46,47,48,49,50],\"mode\":\"lines\"},{\"yaxis\":\"y\",\"y\":[0.77295057,6.293770375,0.914144301,0.837135285,0.880367662,0.7766653570000001,1.566084561,1.075158379,0.626485416,3.030399824,2.6340589669999996,0.7055151820000001,1.6271081559999998,2.1519408110000002,2.100230509,0.889081326,1.147679231,2.168730922,1.970634461,0.7497345769999999,2.292043293,1.359673367,2.2439768300000003,1.6788806429999998,3.4569077239999997,2.389703747,1.825790641,1.90454852,2.6081808520000003,2.463836231,2.734444311,2.591011531,2.13018316,2.489643784,2.654105995,2.980970319,3.8673487410000003,5.575650821,4.715282126,4.030183108,2.8623968250000003,2.6914375770000003,6.667181684000001,8.24052762,4.845547976,8.363121663,2.412046666,6.944761486999999,5.612172008,8.250863631000001],\"showlegend\":true,\"name\":\"cmg\",\"type\":\"scatter\",\"xaxis\":\"x\",\"line\":{\"width\":1,\"dash\":\"solid\",\"color\":\"rgba(62, 164, 78, 1.000)\",\"shape\":\"linear\"},\"x\":[1,2,3,4,5,6,7,8,9,10,11,12,13,14,15,16,17,18,19,20,21,22,23,24,25,26,27,28,29,30,31,32,33,34,35,36,37,38,39,40,41,42,43,44,45,46,47,48,49,50],\"mode\":\"lines\"},{\"yaxis\":\"y\",\"y\":[0.14461677399999998,0.35379330999999997,null,6.491021879,2.378121283,8.49423884,null,0.837409461,0.34479616700000004,3.083579888,null,0.567444515,null,null,null,4.118256398,3.530920369,null,null,0.590806876,7.94468375,5.747127208,null,null,null,1.560226913,null,8.912763602,null,1.3256989579999998,null,5.6973219330000004,2.523246703,8.309270605,4.08418718,null,5.975419222999999,null,null,5.044341053,4.041653556,4.319297871,5.381709436,7.0770997,8.366338595,null,2.698510421,5.580036115,6.042522731,6.212132179],\"showlegend\":true,\"name\":\"icc\",\"type\":\"scatter\",\"xaxis\":\"x\",\"line\":{\"width\":1,\"dash\":\"solid\",\"color\":\"rgba(195, 113, 210, 1.000)\",\"shape\":\"linear\"},\"x\":[1,2,3,4,5,6,7,8,9,10,11,12,13,14,15,16,17,18,19,20,21,22,23,24,25,26,27,28,29,30,31,32,33,34,35,36,37,38,39,40,41,42,43,44,45,46,47,48,49,50],\"mode\":\"lines\"}],\n",
       "               {\"yaxis\":{\"type\":\"-\",\"titlefont\":{\"size\":15,\"color\":\"rgba(0, 0, 0, 1.000)\",\"family\":\"sans-serif\"},\"title\":\"\",\"tickfont\":{\"size\":11,\"color\":\"rgba(0, 0, 0, 1.000)\",\"family\":\"sans-serif\"},\"ticks\":\"inside\",\"tickmode\":\"array\",\"showgrid\":true,\"tickvals\":[0.110249358],\"domain\":[0.03762029746281716,0.9415463692038496],\"ticktext\":[\"0.110249358\"],\"tickangle\":0,\"zeroline\":false,\"linecolor\":\"rgba(0, 0, 0, 1.000)\",\"tickcolor\":\"rgba(0, 0, 0, 1.000)\",\"anchor\":\"x\"},\"annotations\":[{\"text\":\"Total Time\",\"y\":1.0,\"xref\":\"paper\",\"font\":{\"size\":20,\"color\":\"rgba(0, 0, 0, 1.000)\",\"family\":\"sans-serif\"},\"xanchor\":\"center\",\"x\":0.5814814814814815,\"yref\":\"paper\",\"showarrow\":false,\"yanchor\":\"top\",\"rotation\":-0.0}],\"width\":600,\"plot_bgcolor\":\"rgba(255, 255, 255, 1.000)\",\"showlegend\":true,\"legend\":{\"bgcolor\":\"rgba(255, 255, 255, 1.000)\",\"y\":1.0,\"font\":{\"size\":11,\"color\":\"rgba(0, 0, 0, 1.000)\",\"family\":\"sans-serif\"},\"bordercolor\":\"rgba(0, 0, 0, 1.000)\",\"x\":1.0},\"xaxis\":{\"type\":\"-\",\"titlefont\":{\"size\":15,\"color\":\"rgba(0, 0, 0, 1.000)\",\"family\":\"sans-serif\"},\"title\":\"\",\"tickfont\":{\"size\":11,\"color\":\"rgba(0, 0, 0, 1.000)\",\"family\":\"sans-serif\"},\"ticks\":\"inside\",\"tickmode\":\"array\",\"showgrid\":true,\"tickvals\":[10.0,20.0,30.0,40.0,50.0],\"domain\":[0.1695246427529892,0.9934383202099737],\"ticktext\":[\"10\",\"20\",\"30\",\"40\",\"50\"],\"tickangle\":0,\"zeroline\":false,\"linecolor\":\"rgba(0, 0, 0, 1.000)\",\"tickcolor\":\"rgba(0, 0, 0, 1.000)\",\"anchor\":\"y\"},\"paper_bgcolor\":\"rgba(255, 255, 255, 1.000)\",\"margin\":{\"r\":0,\"l\":0,\"b\":0,\"t\":20},\"height\":400}, {showLink: false});\n",
       "\n",
       "    });\n",
       " </script>\n"
      ]
     },
     "metadata": {},
     "output_type": "display_data"
    },
    {
     "name": "stdout",
     "output_type": "stream",
     "text": [
      "aug\n",
      "ee\n",
      "cmg\n",
      "icc\n",
      "aug\n"
     ]
    },
    {
     "data": {
      "text/html": [
       "<div id=\"a974aaf4-5246-4f8c-b63c-e82ba0ebc322\" class=\"plotly-graph-div\"></div>\n",
       "\n",
       "<script>\n",
       "    window.PLOTLYENV=window.PLOTLYENV || {};\n",
       "    window.PLOTLYENV.BASE_URL=\"https://plot.ly\";\n",
       "    require(['plotly'], function(Plotly) {\n",
       "        Plotly.newPlot('a974aaf4-5246-4f8c-b63c-e82ba0ebc322', [{\"yaxis\":\"y\",\"y\":[0.413803038,1.170709804,1.208699359,1.314619578,1.349289357,1.698574796,1.742949117,1.799466143,1.94252039,2.325723212,2.636233188,2.76288524,2.883811025,2.943552477,3.108919969,3.129524682,3.173616372,3.500076645,3.917740795,3.930327738,4.400782117,4.431900985,4.545540544,4.784838125,4.808813994,4.861911919,5.064588573,5.262024656,5.32953973,5.389606948,5.653071937,5.681450438,5.784205934,5.786227908,5.788063112,5.88171143,5.979176019,5.994855345,6.039649173,6.092501465,6.560879508,6.632896893,6.842340739,6.875269216,6.922880924,7.603484242,7.862090985,8.020468264,8.237536063,10.650558],\"showlegend\":true,\"name\":\"aug\",\"type\":\"scatter\",\"xaxis\":\"x\",\"line\":{\"width\":1,\"dash\":\"solid\",\"color\":\"rgba(0, 154, 250, 1.000)\",\"shape\":\"linear\"},\"x\":[1,2,3,4,5,6,7,8,9,10,11,12,13,14,15,16,17,18,19,20,21,22,23,24,25,26,27,28,29,30,31,32,33,34,35,36,37,38,39,40,41,42,43,44,45,46,47,48,49,50],\"mode\":\"lines\"},{\"yaxis\":\"y\",\"y\":[0.103736244,0.27860249,0.428771006,0.554332239,0.562881126,0.666891504,0.908180083,0.518054717,0.453116288,0.40071778,0.254976753,1.257006992,0.520018636,1.230348105,0.681324222,1.138684594,0.855256346,1.143327493,1.795004748,0.62068968,1.105782993,0.725761892,1.798388464,0.767101934,2.498482631,2.054857083,0.988931316,2.047189845,2.992991646,3.235178335,6.204819226,1.17732842,3.464198029,0.860336623,3.203275525,1.396381089,null,4.362854226,1.626424117,1.224762719,4.112834664,4.223020151,2.369727906,null,1.210388036,5.784663161,6.12080386,6.72547195,5.595220371,1.831730639],\"showlegend\":true,\"name\":\"ee\",\"type\":\"scatter\",\"xaxis\":\"x\",\"line\":{\"width\":1,\"dash\":\"solid\",\"color\":\"rgba(227, 111, 71, 1.000)\",\"shape\":\"linear\"},\"x\":[1,2,3,4,5,6,7,8,9,10,11,12,13,14,15,16,17,18,19,20,21,22,23,24,25,26,27,28,29,30,31,32,33,34,35,36,37,38,39,40,41,42,43,44,45,46,47,48,49,50],\"mode\":\"lines\"},{\"yaxis\":\"y\",\"y\":[0.134735472,0.424807373,0.318835719,0.246015608,0.331871024,0.351378775,0.40628742,0.427177713,0.444293714,0.284329367,0.316991585,0.892507832,0.275827782,0.41899189,0.589589124,0.467671539,0.559186036,0.574258472,0.884020762,0.343094939,0.424712859,0.407111154,0.853847793,0.671238954,1.146465274,1.12904451,0.62679087,0.44467221,1.478559338,1.046989763,1.049362152,0.525028818,1.478649827,0.29638677,1.21212565,0.879553285,2.268221054,2.269283901,0.772792108,0.571542116,1.453164599,1.022219432,0.928846678,3.832958882,0.37552584,2.854099026,2.241409263,2.932678511,1.734757367,0.567490449],\"showlegend\":true,\"name\":\"cmg\",\"type\":\"scatter\",\"xaxis\":\"x\",\"line\":{\"width\":1,\"dash\":\"solid\",\"color\":\"rgba(62, 164, 78, 1.000)\",\"shape\":\"linear\"},\"x\":[1,2,3,4,5,6,7,8,9,10,11,12,13,14,15,16,17,18,19,20,21,22,23,24,25,26,27,28,29,30,31,32,33,34,35,36,37,38,39,40,41,42,43,44,45,46,47,48,49,50],\"mode\":\"lines\"},{\"yaxis\":\"y\",\"y\":[0.135531628,0.230916759,0.232855314,0.126819222,0.234788974,0.228807457,0.263032925,0.34161379,0.275286278,0.235963634,null,0.521407538,0.251324032,0.362184534,null,0.36000532,0.327911224,0.420398417,0.710202323,null,null,null,0.508160199,null,0.540332143,0.565603713,null,null,0.545337743,0.614412788,0.636049591,null,null,null,0.516925551,null,null,0.895214389,0.492675171,null,null,0.607300829,null,0.913221613,null,0.944310812,1.434479664,0.753829755,0.951425488,null],\"showlegend\":true,\"name\":\"icc\",\"type\":\"scatter\",\"xaxis\":\"x\",\"line\":{\"width\":1,\"dash\":\"solid\",\"color\":\"rgba(195, 113, 210, 1.000)\",\"shape\":\"linear\"},\"x\":[1,2,3,4,5,6,7,8,9,10,11,12,13,14,15,16,17,18,19,20,21,22,23,24,25,26,27,28,29,30,31,32,33,34,35,36,37,38,39,40,41,42,43,44,45,46,47,48,49,50],\"mode\":\"lines\"}],\n",
       "               {\"yaxis\":{\"type\":\"-\",\"titlefont\":{\"size\":15,\"color\":\"rgba(0, 0, 0, 1.000)\",\"family\":\"sans-serif\"},\"title\":\"\",\"tickfont\":{\"size\":11,\"color\":\"rgba(0, 0, 0, 1.000)\",\"family\":\"sans-serif\"},\"ticks\":\"inside\",\"tickmode\":\"array\",\"showgrid\":true,\"tickvals\":[0.103736244],\"domain\":[0.03762029746281716,0.9415463692038496],\"ticktext\":[\"0.103736244\"],\"tickangle\":0,\"zeroline\":false,\"linecolor\":\"rgba(0, 0, 0, 1.000)\",\"tickcolor\":\"rgba(0, 0, 0, 1.000)\",\"anchor\":\"x\"},\"annotations\":[{\"text\":\"Build Time\",\"y\":1.0,\"xref\":\"paper\",\"font\":{\"size\":20,\"color\":\"rgba(0, 0, 0, 1.000)\",\"family\":\"sans-serif\"},\"xanchor\":\"center\",\"x\":0.5814814814814815,\"yref\":\"paper\",\"showarrow\":false,\"yanchor\":\"top\",\"rotation\":-0.0}],\"width\":600,\"plot_bgcolor\":\"rgba(255, 255, 255, 1.000)\",\"showlegend\":true,\"legend\":{\"bgcolor\":\"rgba(255, 255, 255, 1.000)\",\"y\":1.0,\"font\":{\"size\":11,\"color\":\"rgba(0, 0, 0, 1.000)\",\"family\":\"sans-serif\"},\"bordercolor\":\"rgba(0, 0, 0, 1.000)\",\"x\":1.0},\"xaxis\":{\"type\":\"-\",\"titlefont\":{\"size\":15,\"color\":\"rgba(0, 0, 0, 1.000)\",\"family\":\"sans-serif\"},\"title\":\"\",\"tickfont\":{\"size\":11,\"color\":\"rgba(0, 0, 0, 1.000)\",\"family\":\"sans-serif\"},\"ticks\":\"inside\",\"tickmode\":\"array\",\"showgrid\":true,\"tickvals\":[10.0,20.0,30.0,40.0,50.0],\"domain\":[0.1695246427529892,0.9934383202099737],\"ticktext\":[\"10\",\"20\",\"30\",\"40\",\"50\"],\"tickangle\":0,\"zeroline\":false,\"linecolor\":\"rgba(0, 0, 0, 1.000)\",\"tickcolor\":\"rgba(0, 0, 0, 1.000)\",\"anchor\":\"y\"},\"paper_bgcolor\":\"rgba(255, 255, 255, 1.000)\",\"margin\":{\"r\":0,\"l\":0,\"b\":0,\"t\":20},\"height\":400}, {showLink: false});\n",
       "\n",
       "    });\n",
       " </script>\n"
      ]
     },
     "metadata": {},
     "output_type": "display_data"
    },
    {
     "data": {
      "text/html": [
       "<div id=\"7533e031-ca66-482e-8295-71b0258d88a2\" class=\"plotly-graph-div\"></div>\n",
       "\n",
       "<script>\n",
       "    window.PLOTLYENV=window.PLOTLYENV || {};\n",
       "    window.PLOTLYENV.BASE_URL=\"https://plot.ly\";\n",
       "    require(['plotly'], function(Plotly) {\n",
       "        Plotly.newPlot('7533e031-ca66-482e-8295-71b0258d88a2', [{\"yaxis\":\"y\",\"y\":[0.00865242,0.032152152,0.39582451,0.884816314,0.985658308,1.472583548,1.495987428,1.850980007,2.119871379,2.444033587,2.562837063,2.726703401,2.825099335,3.030440893,3.325136841,3.345806247,3.35382094,3.496177537,3.789403598,4.634587554,4.80779382,4.853142094,5.093556547,5.482314178,6.950931182,7.01789617,8.577028134,8.783659724,10.067964827,10.218517609,11.072629188,15.770899105,16.421395847,16.600718624,17.68054518,17.857443421,19.046566105,19.670857367,19.921379461,19.957840811,20.926912741,21.353639976,21.484241356,21.731028287,24.892160126,31.013757345,35.814632131,36.267144713,37.209200659,38.501150527],\"showlegend\":true,\"name\":\"aug\",\"type\":\"scatter\",\"xaxis\":\"x\",\"line\":{\"width\":1,\"dash\":\"solid\",\"color\":\"rgba(0, 154, 250, 1.000)\",\"shape\":\"linear\"},\"x\":[1,2,3,4,5,6,7,8,9,10,11,12,13,14,15,16,17,18,19,20,21,22,23,24,25,26,27,28,29,30,31,32,33,34,35,36,37,38,39,40,41,42,43,44,45,46,47,48,49,50],\"mode\":\"lines\"},{\"yaxis\":\"y\",\"y\":[0.006513114,0.019931854,0.320649644,0.471337059,0.518138886,1.206586536,0.664488139,0.95819308,0.270667453,1.185750766,1.206964681,1.507682481,1.423518153,0.923122345,1.381219961,1.881828915,1.621336025,1.425763228,0.449265056,0.309109988,0.509560674,0.44738294,0.517047071,0.404259223,0.400296169,0.458416811,1.578672298,0.883966258,1.512543844,0.840998751,1.000846856,1.748384102,1.594294339,1.33023428,1.34438909,2.968564893,1.909779297,2.630873904,2.518937417,2.067310083,1.522436406,1.407024282,1.496935831,1.96560925,2.742993478,null,2.712138262,2.574948635,null,1.879298352],\"showlegend\":true,\"name\":\"ee\",\"type\":\"scatter\",\"xaxis\":\"x\",\"line\":{\"width\":1,\"dash\":\"solid\",\"color\":\"rgba(227, 111, 71, 1.000)\",\"shape\":\"linear\"},\"x\":[1,2,3,4,5,6,7,8,9,10,11,12,13,14,15,16,17,18,19,20,21,22,23,24,25,26,27,28,29,30,31,32,33,34,35,36,37,38,39,40,41,42,43,44,45,46,47,48,49,50],\"mode\":\"lines\"},{\"yaxis\":\"y\",\"y\":[0.638215098,5.866592662,0.597152716,0.552805918,0.500837575,1.803843739,1.222989622,1.525149941,0.455560289,1.219997002,1.303354803,1.519251185,1.445605643,2.044469843,2.528061046,2.040690403,1.672434714,1.497491968,0.668870959,0.380469808,0.421409787,2.711564105,0.728687341,0.373644158,0.398355802,0.915379653,1.401077782,1.830517711,1.854891026,1.330290048,1.579815469,1.276335367,1.698503699,1.360599274,1.607116232,2.536298109,2.720883467,4.097000994,5.307849109,3.262117527,1.669218145,1.650271175,2.55162377,4.397897783,3.110790609,6.094900609,1.362684514,3.370762745,3.111802605,5.396764605],\"showlegend\":true,\"name\":\"cmg\",\"type\":\"scatter\",\"xaxis\":\"x\",\"line\":{\"width\":1,\"dash\":\"solid\",\"color\":\"rgba(62, 164, 78, 1.000)\",\"shape\":\"linear\"},\"x\":[1,2,3,4,5,6,7,8,9,10,11,12,13,14,15,16,17,18,19,20,21,22,23,24,25,26,27,28,29,30,31,32,33,34,35,36,37,38,39,40,41,42,43,44,45,46,47,48,49,50],\"mode\":\"lines\"},{\"yaxis\":\"y\",\"y\":[0.009085146,0.01217952,null,6.255058245,8.242914808,null,null,null,2.147204524,null,null,7.452008579,null,null,null,null,null,null,0.574376536,0.217976945,3.758251078,2.850724574,3.168735835,0.332655541,0.361999419,5.47184093,null,1.232315689,null,8.492365185,0.615496635,2.015086504,5.175914395,7.743666892,3.469774392,null,5.43508708,null,6.323269945,null,3.711997042,3.524728005,4.49900331,4.486495047,7.414913107,null,2.06246083,4.608043067,4.666814502,5.267821367],\"showlegend\":true,\"name\":\"icc\",\"type\":\"scatter\",\"xaxis\":\"x\",\"line\":{\"width\":1,\"dash\":\"solid\",\"color\":\"rgba(195, 113, 210, 1.000)\",\"shape\":\"linear\"},\"x\":[1,2,3,4,5,6,7,8,9,10,11,12,13,14,15,16,17,18,19,20,21,22,23,24,25,26,27,28,29,30,31,32,33,34,35,36,37,38,39,40,41,42,43,44,45,46,47,48,49,50],\"mode\":\"lines\"}],\n",
       "               {\"yaxis\":{\"type\":\"-\",\"titlefont\":{\"size\":15,\"color\":\"rgba(0, 0, 0, 1.000)\",\"family\":\"sans-serif\"},\"title\":\"\",\"tickfont\":{\"size\":11,\"color\":\"rgba(0, 0, 0, 1.000)\",\"family\":\"sans-serif\"},\"ticks\":\"inside\",\"tickmode\":\"array\",\"showgrid\":true,\"tickvals\":[0.006513114],\"domain\":[0.03762029746281716,0.9415463692038496],\"ticktext\":[\"0.006513114\"],\"tickangle\":0,\"zeroline\":false,\"linecolor\":\"rgba(0, 0, 0, 1.000)\",\"tickcolor\":\"rgba(0, 0, 0, 1.000)\",\"anchor\":\"x\"},\"annotations\":[{\"text\":\"Solve Time\",\"y\":1.0,\"xref\":\"paper\",\"font\":{\"size\":20,\"color\":\"rgba(0, 0, 0, 1.000)\",\"family\":\"sans-serif\"},\"xanchor\":\"center\",\"x\":0.5814814814814815,\"yref\":\"paper\",\"showarrow\":false,\"yanchor\":\"top\",\"rotation\":-0.0}],\"width\":600,\"plot_bgcolor\":\"rgba(255, 255, 255, 1.000)\",\"showlegend\":true,\"legend\":{\"bgcolor\":\"rgba(255, 255, 255, 1.000)\",\"y\":1.0,\"font\":{\"size\":11,\"color\":\"rgba(0, 0, 0, 1.000)\",\"family\":\"sans-serif\"},\"bordercolor\":\"rgba(0, 0, 0, 1.000)\",\"x\":1.0},\"xaxis\":{\"type\":\"-\",\"titlefont\":{\"size\":15,\"color\":\"rgba(0, 0, 0, 1.000)\",\"family\":\"sans-serif\"},\"title\":\"\",\"tickfont\":{\"size\":11,\"color\":\"rgba(0, 0, 0, 1.000)\",\"family\":\"sans-serif\"},\"ticks\":\"inside\",\"tickmode\":\"array\",\"showgrid\":true,\"tickvals\":[10.0,20.0,30.0,40.0,50.0],\"domain\":[0.1695246427529892,0.9934383202099737],\"ticktext\":[\"10\",\"20\",\"30\",\"40\",\"50\"],\"tickangle\":0,\"zeroline\":false,\"linecolor\":\"rgba(0, 0, 0, 1.000)\",\"tickcolor\":\"rgba(0, 0, 0, 1.000)\",\"anchor\":\"y\"},\"paper_bgcolor\":\"rgba(255, 255, 255, 1.000)\",\"margin\":{\"r\":0,\"l\":0,\"b\":0,\"t\":20},\"height\":400}, {showLink: false});\n",
       "\n",
       "    });\n",
       " </script>\n"
      ]
     },
     "metadata": {},
     "output_type": "display_data"
    },
    {
     "data": {
      "text/html": [
       "<div id=\"1227737a-d3df-4729-abca-0b6f9eeb5a33\" class=\"plotly-graph-div\"></div>\n",
       "\n",
       "<script>\n",
       "    window.PLOTLYENV=window.PLOTLYENV || {};\n",
       "    window.PLOTLYENV.BASE_URL=\"https://plot.ly\";\n",
       "    require(['plotly'], function(Plotly) {\n",
       "        Plotly.newPlot('1227737a-d3df-4729-abca-0b6f9eeb5a33', [{\"yaxis\":\"y\",\"y\":[1.0,1.0,30.0,62.0,64.0,65.0,70.0,76.0,90.0,93.0,95.0,97.0,100.0,100.0,115.0,121.0,147.0,149.0,166.0,179.0,182.0,193.0,197.0,199.0,200.0,207.0,219.0,241.0,277.0,284.0,285.0,287.0,298.0,298.0,298.0,308.0,315.0,316.0,318.0,320.0,343.0,347.0,349.0,361.0,394.0,439.0,446.0,447.0,477.0,558.0],\"showlegend\":true,\"name\":\"aug\",\"type\":\"scatter\",\"xaxis\":\"x\",\"line\":{\"width\":1,\"dash\":\"solid\",\"color\":\"rgba(0, 154, 250, 1.000)\",\"shape\":\"linear\"},\"x\":[1,2,3,4,5,6,7,8,9,10,11,12,13,14,15,16,17,18,19,20,21,22,23,24,25,26,27,28,29,30,31,32,33,34,35,36,37,38,39,40,41,42,43,44,45,46,47,48,49,50],\"mode\":\"lines\"},{\"yaxis\":\"y\",\"y\":[1.0,1.0,31.0,30.0,35.0,30.0,42.0,29.0,31.0,41.0,26.0,40.0,39.0,41.0,36.0,29.0,31.0,21.0,32.0,25.0,28.0,26.0,28.0,18.0,33.0,21.0,26.0,29.0,28.0,30.0,30.0,26.0,22.0,29.0,29.0,53.0,23.0,21.0,29.0,23.0,21.0,22.0,32.0,21.0,23.0,null,24.0,null,22.0,21.0],\"showlegend\":true,\"name\":\"ee\",\"type\":\"scatter\",\"xaxis\":\"x\",\"line\":{\"width\":1,\"dash\":\"solid\",\"color\":\"rgba(227, 111, 71, 1.000)\",\"shape\":\"linear\"},\"x\":[1,2,3,4,5,6,7,8,9,10,11,12,13,14,15,16,17,18,19,20,21,22,23,24,25,26,27,28,29,30,31,32,33,34,35,36,37,38,39,40,41,42,43,44,45,46,47,48,49,50],\"mode\":\"lines\"},{\"yaxis\":\"y\",\"y\":[124.0,52.0,40.0,34.0,34.0,36.0,39.0,42.0,37.0,36.0,26.0,32.0,33.0,32.0,43.0,42.0,33.0,48.0,34.0,28.0,49.0,35.0,43.0,28.0,58.0,36.0,34.0,234.0,23.0,23.0,23.0,30.0,40.0,27.0,44.0,41.0,32.0,26.0,48.0,58.0,28.0,38.0,49.0,27.0,52.0,52.0,30.0,22.0,28.0,42.0],\"showlegend\":true,\"name\":\"cmg\",\"type\":\"scatter\",\"xaxis\":\"x\",\"line\":{\"width\":1,\"dash\":\"solid\",\"color\":\"rgba(62, 164, 78, 1.000)\",\"shape\":\"linear\"},\"x\":[1,2,3,4,5,6,7,8,9,10,11,12,13,14,15,16,17,18,19,20,21,22,23,24,25,26,27,28,29,30,31,32,33,34,35,36,37,38,39,40,41,42,43,44,45,46,47,48,49,50],\"mode\":\"lines\"},{\"yaxis\":\"y\",\"y\":[1.0,1.0,null,null,632.0,null,null,null,null,584.0,244.0,null,null,null,null,null,null,50.0,null,271.0,null,188.0,309.0,21.0,341.0,46.0,235.0,325.0,31.0,31.0,31.0,221.0,140.0,76.0,153.0,null,100.0,142.0,null,134.0,84.0,108.0,null,78.0,120.0,null,60.0,74.0,92.0,105.0],\"showlegend\":true,\"name\":\"icc\",\"type\":\"scatter\",\"xaxis\":\"x\",\"line\":{\"width\":1,\"dash\":\"solid\",\"color\":\"rgba(195, 113, 210, 1.000)\",\"shape\":\"linear\"},\"x\":[1,2,3,4,5,6,7,8,9,10,11,12,13,14,15,16,17,18,19,20,21,22,23,24,25,26,27,28,29,30,31,32,33,34,35,36,37,38,39,40,41,42,43,44,45,46,47,48,49,50],\"mode\":\"lines\"}],\n",
       "               {\"yaxis\":{\"type\":\"-\",\"titlefont\":{\"size\":15,\"color\":\"rgba(0, 0, 0, 1.000)\",\"family\":\"sans-serif\"},\"title\":\"\",\"tickfont\":{\"size\":11,\"color\":\"rgba(0, 0, 0, 1.000)\",\"family\":\"sans-serif\"},\"ticks\":\"inside\",\"tickmode\":\"array\",\"showgrid\":true,\"tickvals\":[1.0],\"domain\":[0.03762029746281716,0.9415463692038496],\"ticktext\":[\"1\"],\"tickangle\":0,\"zeroline\":false,\"linecolor\":\"rgba(0, 0, 0, 1.000)\",\"tickcolor\":\"rgba(0, 0, 0, 1.000)\",\"anchor\":\"x\"},\"annotations\":[{\"text\":\"Iterations\",\"y\":1.0,\"xref\":\"paper\",\"font\":{\"size\":20,\"color\":\"rgba(0, 0, 0, 1.000)\",\"family\":\"sans-serif\"},\"xanchor\":\"center\",\"x\":0.5074074074074074,\"yref\":\"paper\",\"showarrow\":false,\"yanchor\":\"top\",\"rotation\":-0.0}],\"width\":600,\"plot_bgcolor\":\"rgba(255, 255, 255, 1.000)\",\"showlegend\":true,\"legend\":{\"bgcolor\":\"rgba(255, 255, 255, 1.000)\",\"y\":1.0,\"font\":{\"size\":11,\"color\":\"rgba(0, 0, 0, 1.000)\",\"family\":\"sans-serif\"},\"bordercolor\":\"rgba(0, 0, 0, 1.000)\",\"x\":1.0},\"xaxis\":{\"type\":\"-\",\"titlefont\":{\"size\":15,\"color\":\"rgba(0, 0, 0, 1.000)\",\"family\":\"sans-serif\"},\"title\":\"\",\"tickfont\":{\"size\":11,\"color\":\"rgba(0, 0, 0, 1.000)\",\"family\":\"sans-serif\"},\"ticks\":\"inside\",\"tickmode\":\"array\",\"showgrid\":true,\"tickvals\":[10.0,20.0,30.0,40.0,50.0],\"domain\":[0.02137649460484106,0.9934383202099737],\"ticktext\":[\"10\",\"20\",\"30\",\"40\",\"50\"],\"tickangle\":0,\"zeroline\":false,\"linecolor\":\"rgba(0, 0, 0, 1.000)\",\"tickcolor\":\"rgba(0, 0, 0, 1.000)\",\"anchor\":\"y\"},\"paper_bgcolor\":\"rgba(255, 255, 255, 1.000)\",\"margin\":{\"r\":0,\"l\":0,\"b\":0,\"t\":20},\"height\":400}, {showLink: false});\n",
       "\n",
       "    });\n",
       " </script>\n"
      ]
     },
     "metadata": {},
     "output_type": "display_data"
    },
    {
     "name": "stdout",
     "output_type": "stream",
     "text": [
      "ee\n",
      "cmg\n",
      "icc\n",
      "aug\n",
      "ee\n",
      "cmg\n",
      "icc\n",
      "aug\n",
      "ee\n",
      "cmg\n",
      "icc\n"
     ]
    }
   ],
   "source": [
    "plots_and_stats(dic)"
   ]
  },
  {
   "cell_type": "code",
   "execution_count": null,
   "metadata": {
    "collapsed": true
   },
   "outputs": [],
   "source": []
  }
 ],
 "metadata": {
  "kernelspec": {
   "display_name": "Julia 0.5.1",
   "language": "julia",
   "name": "julia-0.5"
  },
  "language_info": {
   "file_extension": ".jl",
   "mimetype": "application/julia",
   "name": "julia",
   "version": "0.5.1"
  }
 },
 "nbformat": 4,
 "nbformat_minor": 2
}
